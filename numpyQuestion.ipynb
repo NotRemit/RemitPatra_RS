{
 "cells": [
  {
   "cell_type": "markdown",
   "id": "f349e53a",
   "metadata": {},
   "source": [
    "# Numpy Questions"
   ]
  },
  {
   "cell_type": "code",
   "execution_count": null,
   "id": "8ed7a8c5",
   "metadata": {},
   "outputs": [],
   "source": [
    "import numpy as np"
   ]
  },
  {
   "cell_type": "markdown",
   "id": "0a8fb836",
   "metadata": {},
   "source": [
    "1. Create a NumPy array of even numbers from 2 to 100, then reverse it."
   ]
  },
  {
   "cell_type": "code",
   "execution_count": null,
   "id": "89903968",
   "metadata": {},
   "outputs": [],
   "source": [
    "l = np.arange(2, 101, 2)\n",
    "reversed_list = l[::-1]\n",
    "print(reversed_list)"
   ]
  },
  {
   "cell_type": "markdown",
   "id": "061161ea",
   "metadata": {},
   "source": [
    "2. . Generate an 8x8 checkerboard pattern (alternating 0s and 1s) without using loops."
   ]
  },
  {
   "cell_type": "code",
   "execution_count": null,
   "id": "fbbfd5f8",
   "metadata": {},
   "outputs": [],
   "source": [
    "checkerboard = np.zeros((8, 8))\n",
    "checkerboard[1::2, ::2] = 1\n",
    "checkerboard[::2, 1::2] = 1\n",
    "print(checkerboard)"
   ]
  },
  {
   "cell_type": "markdown",
   "id": "92c0ade5",
   "metadata": {},
   "source": [
    "3. Create a 5x5 identity matrix but replace the diagonal with values 1 to 5."
   ]
  },
  {
   "cell_type": "code",
   "execution_count": null,
   "id": "327dfb05",
   "metadata": {},
   "outputs": [],
   "source": [
    "l = np.eye(5)\n",
    "for i in range(5):\n",
    "    l[i, i] = i + 1\n",
    "print(l)\n",
    "\n",
    "print()\n",
    "\n",
    "l2 = np.eye(5)\n",
    "np.fill_diagonal(l2, np.arange(1, 6))\n",
    "print(l2)"
   ]
  },
  {
   "cell_type": "markdown",
   "id": "16c8970c",
   "metadata": {},
   "source": [
    "4. Given a 5x5 random array, extract only the border elements (first/last row/column).(write the code so it is suitable for any given 5x5 array)\n"
   ]
  },
  {
   "cell_type": "code",
   "execution_count": null,
   "id": "f6a61f4e",
   "metadata": {},
   "outputs": [],
   "source": [
    "l = np.random.randint(10, size=(5, 5))\n",
    "l1 = np.zeros((5, 5))\n",
    "l1[0, :] = l[0, :]\n",
    "l1[-1, :] = l[-1, :]\n",
    "l1[:, 0] = l[:, 0]\n",
    "l1[:, -1] = l[:, -1]\n",
    "print(l1)"
   ]
  },
  {
   "cell_type": "markdown",
   "id": "1f62732f",
   "metadata": {},
   "source": [
    "5. Extract unique rows from a 2D array.\n",
    "[[1, 2],\n",
    "[3, 4],\n",
    "[1, 2]]"
   ]
  },
  {
   "cell_type": "code",
   "execution_count": null,
   "id": "5e0e6b09",
   "metadata": {},
   "outputs": [],
   "source": [
    "l = np.array([[1,2], [3, 4], [1, 2]])\n",
    "\n",
    "l_unique = np.unique(l, axis=0)\n",
    "l_unique"
   ]
  },
  {
   "cell_type": "markdown",
   "id": "cdef494d",
   "metadata": {},
   "source": [
    "6. Given an RGB image (3D array of shape (H,W,3)), swap the red and blue channels."
   ]
  },
  {
   "cell_type": "code",
   "execution_count": null,
   "id": "9b22ae83",
   "metadata": {},
   "outputs": [],
   "source": [
    "image = np.random.randint(0, 10, (2, 2, 3))\n",
    "print(image)\n",
    "print()\n",
    "swapped_image = image.copy()\n",
    "for i in range(image.shape[0]):\n",
    "    for j in range(image.shape[1]):\n",
    "        swapped_image[i, j][0], swapped_image[i, j][2] = image[i, j][2], image[i, j][0]\n",
    "print(swapped_image)\n"
   ]
  },
  {
   "cell_type": "markdown",
   "id": "6cc78cd6",
   "metadata": {},
   "source": [
    "7. Calculate the determinant of a 3x3 matrix without using np.linalg.det."
   ]
  },
  {
   "cell_type": "code",
   "execution_count": null,
   "id": "2793ea43",
   "metadata": {},
   "outputs": [],
   "source": [
    "l = np.random.randint(1, 10, (3, 3))\n",
    "det = (l[0, 0] * l[1, 1] * l[2, 2] -\n",
    "       l[0, 0] * l[1, 2] * l[2, 1] -\n",
    "       l[0, 1] * l[1, 0] * l[2, 2] +\n",
    "       l[0, 1] * l[1, 2] * l[2, 0] +\n",
    "       l[0, 2] * l[1, 0] * l[2, 1] -\n",
    "       l[0, 2] * l[1, 1] * l[2, 0])\n",
    "print(l)\n",
    "print(det)"
   ]
  },
  {
   "cell_type": "markdown",
   "id": "5670c1ab",
   "metadata": {},
   "source": [
    "8. Append to an empty array arr = np.array([]).\n"
   ]
  },
  {
   "cell_type": "code",
   "execution_count": null,
   "id": "24bf0c66",
   "metadata": {},
   "outputs": [],
   "source": [
    "arr = np.array([])\n",
    "arr = np.append(arr, 1)\n",
    "arr"
   ]
  },
  {
   "cell_type": "markdown",
   "id": "42abadf9",
   "metadata": {},
   "source": [
    "9. Compare np.append() vs. np.concatenate() for 10,000 appends."
   ]
  },
  {
   "cell_type": "code",
   "execution_count": null,
   "id": "45e7be4d",
   "metadata": {},
   "outputs": [],
   "source": [
    "import time\n",
    "\n",
    "init = time.time()\n",
    "arr = np.array([])\n",
    "for i in range(10000):\n",
    "    arr = np.append(arr, i)\n",
    "print(\"np.append() time:\", time.time() - init)\n",
    "init = time.time()\n",
    "arr = np.array([])\n",
    "for i in range(10000):\n",
    "    arr = np.concatenate((arr, [i]))\n",
    "print(\"np.concatenate() time:\", time.time() - init)"
   ]
  },
  {
   "cell_type": "markdown",
   "id": "22048533",
   "metadata": {},
   "source": [
    "10. Append only even numbers from [4, 5, 6] to arr = np.array([1, 2, 3])."
   ]
  },
  {
   "cell_type": "code",
   "execution_count": null,
   "id": "66fd7b86",
   "metadata": {},
   "outputs": [],
   "source": [
    "l = [4, 5, 6]\n",
    "arr = np.array([1, 2, 3])\n",
    "\n",
    "for i in l:\n",
    "    if i % 2 == 0:\n",
    "        arr = np.append(arr, i)\n",
    "\n",
    "print(arr)"
   ]
  },
  {
   "cell_type": "markdown",
   "id": "f56d32c2",
   "metadata": {},
   "source": [
    "11. Generate a 200×300 grayscale image using NumPy where all pixel values are set to 128"
   ]
  },
  {
   "cell_type": "code",
   "execution_count": null,
   "id": "472948d3",
   "metadata": {},
   "outputs": [],
   "source": [
    "image = np.full((200, 300), 128)\n",
    "print(image)"
   ]
  },
  {
   "cell_type": "markdown",
   "id": "f043c1df",
   "metadata": {},
   "source": [
    "12. Given an image img with dimensions 500×600, use NumPy slicing to extract a 100×100 square region from the center of the image."
   ]
  },
  {
   "cell_type": "code",
   "execution_count": null,
   "id": "1a469832",
   "metadata": {},
   "outputs": [],
   "source": [
    "img = np.random.randint(0, 10, (500, 600))\n",
    "x = int(img.shape[0] / 2)\n",
    "y = int(img.shape[1] / 2)\n",
    "square = img[x - 50:x + 50, y - 50:y + 50]\n",
    "print(square)"
   ]
  }
 ],
 "metadata": {
  "kernelspec": {
   "display_name": ".venv",
   "language": "python",
   "name": "python3"
  },
  "language_info": {
   "codemirror_mode": {
    "name": "ipython",
    "version": 3
   },
   "file_extension": ".py",
   "mimetype": "text/x-python",
   "name": "python",
   "nbconvert_exporter": "python",
   "pygments_lexer": "ipython3",
   "version": "3.13.2"
  }
 },
 "nbformat": 4,
 "nbformat_minor": 5
}
