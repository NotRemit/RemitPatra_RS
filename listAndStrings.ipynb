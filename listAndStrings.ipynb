{
 "cells": [
  {
   "cell_type": "markdown",
   "id": "9e6f9410",
   "metadata": {},
   "source": [
    "# Lists and Strings"
   ]
  },
  {
   "cell_type": "markdown",
   "id": "d26bff21",
   "metadata": {},
   "source": [
    "1. Given a list like [1, [2, [3, [4, []]], 5], write a function deepest_nesting(lst) that returns the maximum depth of nesting (e.g., 4 for this case). Do not use recursion."
   ]
  },
  {
   "cell_type": "code",
   "execution_count": null,
   "id": "5df01bd7",
   "metadata": {},
   "outputs": [],
   "source": []
  },
  {
   "cell_type": "markdown",
   "id": "89a64036",
   "metadata": {},
   "source": [
    "2. Split a list into k sublists such that: \n",
    "No sublist is empty. The difference between the maximum sum and minimum sum of sublists is minimized."
   ]
  },
  {
   "cell_type": "code",
   "execution_count": null,
   "id": "b27a2568",
   "metadata": {},
   "outputs": [],
   "source": []
  },
  {
   "cell_type": "markdown",
   "id": "a734aae2",
   "metadata": {},
   "source": [
    "3. Given lst = [('a', 1), ('b', 2), ('a', 3)], convert it into {'a': [1, 3], 'b': [2]} without \n",
    "using defaultdict or setdefault."
   ]
  },
  {
   "cell_type": "code",
   "execution_count": 22,
   "id": "4eb72bc7",
   "metadata": {},
   "outputs": [
    {
     "name": "stdout",
     "output_type": "stream",
     "text": [
      "{'a': [1, 3], 'b': [2]}\n"
     ]
    }
   ],
   "source": [
    "dict1 = {}\n",
    "lst = [('a', 1), ('b', 2), ('a', 3)]\n",
    "for i in lst:\n",
    "    if i[0] not in dict1:\n",
    "        dict1[i[0]] = [i[1]]\n",
    "    else:\n",
    "        dict1[i[0]].append(i[1])\n",
    "print(dict1)"
   ]
  },
  {
   "cell_type": "markdown",
   "id": "54e4ae0e",
   "metadata": {},
   "source": [
    "4. Write a function shuffle_restricted(lst) that shuffles a list without \n",
    "using random.shuffle and ensuring no element appears in its original \n",
    "position."
   ]
  },
  {
   "cell_type": "code",
   "execution_count": null,
   "id": "b10726e1",
   "metadata": {},
   "outputs": [
    {
     "name": "stdout",
     "output_type": "stream",
     "text": [
      "[6, 5, 4, 1, 2, 3]\n"
     ]
    }
   ],
   "source": [
    "list1 = [1, 2, 3, 4, 5, 6]\n",
    "\n",
    "list1 = list1[::-1]\n",
    "if len(list1) % 2 == 0:\n",
    "    list1 = list1[0:len(list1)//2] + list1[len(list1)//2:][::-1]\n",
    "else:\n",
    "    list1 = list1[0:len(list1)//2] + list1[len(list1)//2+1:][::-1] + [list1[len(list1)//2]]\n",
    "\n",
    "print(list1)"
   ]
  },
  {
   "cell_type": "markdown",
   "id": "75f0c385",
   "metadata": {},
   "source": [
    "5. Encode a string such that consecutive runs of 3+ characters are \n",
    "compressed (e.g., \"aaabbcccc\" → \"a3bbc4\")."
   ]
  },
  {
   "cell_type": "code",
   "execution_count": null,
   "id": "2c79bc3d",
   "metadata": {},
   "outputs": [],
   "source": [
    "string = \"aaabbcccc\"\n",
    "countC = {}\n",
    "for char in string:\n",
    "    if char in countC:\n",
    "        countC[char] += 1\n",
    "    else:\n",
    "        countC[char] = 1\n",
    "\n",
    "for char, count in countC.items():\n",
    "    print(char, end=\"\")\n",
    "    if count > 2:\n",
    "        print(count, end=\"\")\n",
    "    elif count == 2:\n",
    "        print(char, end=\"\")"
   ]
  },
  {
   "cell_type": "markdown",
   "id": "e5382ca3",
   "metadata": {},
   "source": [
    "6. Return the intersection of two lists without duplicates. \n",
    "(Take any two list of your choice)."
   ]
  },
  {
   "cell_type": "code",
   "execution_count": null,
   "id": "ea7ebc6e",
   "metadata": {},
   "outputs": [],
   "source": [
    "list1 = [1, 2, 3]\n",
    "list2 = [2, 5, 3]\n",
    "\n",
    "list1 = set(list1)\n",
    "list2 = set(list2)\n",
    "\n",
    "list3 = list1.intersection(list2)\n",
    "print(list3)"
   ]
  },
  {
   "cell_type": "markdown",
   "id": "0e90718c",
   "metadata": {},
   "source": [
    "7. Given a list like [\"abc\", \"def\", [\"ghi\", \"jkl\"]], flatten it into a single list of \n",
    "characters."
   ]
  },
  {
   "cell_type": "code",
   "execution_count": null,
   "id": "6811bf27",
   "metadata": {},
   "outputs": [],
   "source": []
  },
  {
   "cell_type": "markdown",
   "id": "daa892c3",
   "metadata": {},
   "source": [
    "8. Convert a list of words into an acronym (first letters capitalized). \n",
    "Example: [\"Federal\", \"Bureau\", \"Investigation\"] → \"FBI\""
   ]
  },
  {
   "cell_type": "code",
   "execution_count": null,
   "id": "b743ff22",
   "metadata": {},
   "outputs": [],
   "source": [
    "list = [\"Federal\", \"Bureau\", \"Investigation\"]\n",
    "for i in list:\n",
    "    print(i[0].upper(), end=\"\")"
   ]
  },
  {
   "cell_type": "markdown",
   "id": "085d2881",
   "metadata": {},
   "source": [
    "9. Determine if two strings are anagrams without sorting.(Take two strings \n",
    "of your choice)"
   ]
  },
  {
   "cell_type": "code",
   "execution_count": null,
   "id": "e584aa7c",
   "metadata": {},
   "outputs": [],
   "source": [
    "str1 = \"Remit\"\n",
    "str2 = \"Timer\"\n",
    "str1 = str1.lower()\n",
    "str2 = str2.lower()\n",
    "if str1[::-1] == str2:\n",
    "    print(\"The strings are anagrams\")\n",
    "else:\n",
    "    print(\"The strings are not anagrams\")"
   ]
  },
  {
   "cell_type": "markdown",
   "id": "fe7de466",
   "metadata": {},
   "source": [
    "10.  Given a list of n-1 integers from 1 to n, write the code to find the missing \n",
    "number. \n",
    "Example: [1, 2, 4, 5] → 3"
   ]
  },
  {
   "cell_type": "code",
   "execution_count": null,
   "id": "4f135e40",
   "metadata": {},
   "outputs": [],
   "source": [
    "list = [1,2, 3, 4, 5, 7]\n",
    "list.sort()\n",
    "for i in range(len(list)):\n",
    "    if list[i] != i + 1:\n",
    "        print(\"The first missing number is\", i + 1)\n",
    "        break"
   ]
  }
 ],
 "metadata": {
  "kernelspec": {
   "display_name": ".venv",
   "language": "python",
   "name": "python3"
  },
  "language_info": {
   "codemirror_mode": {
    "name": "ipython",
    "version": 3
   },
   "file_extension": ".py",
   "mimetype": "text/x-python",
   "name": "python",
   "nbconvert_exporter": "python",
   "pygments_lexer": "ipython3",
   "version": "3.13.2"
  }
 },
 "nbformat": 4,
 "nbformat_minor": 5
}
