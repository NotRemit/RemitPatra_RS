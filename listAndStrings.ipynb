{
 "cells": [
  {
   "cell_type": "markdown",
   "id": "9e6f9410",
   "metadata": {},
   "source": [
    "# Lists and Strings"
   ]
  },
  {
   "cell_type": "markdown",
   "id": "d26bff21",
   "metadata": {},
   "source": [
    "1. Given a list like [1, [2, [3, [4, []]], 5], write a function deepest_nesting(lst) that returns the maximum depth of nesting (e.g., 4 for this case). Do not use recursion."
   ]
  },
  {
   "cell_type": "code",
   "execution_count": null,
   "id": "5df01bd7",
   "metadata": {},
   "outputs": [
    {
     "name": "stdout",
     "output_type": "stream",
     "text": [
      "Hello WOrld \n"
     ]
    }
   ],
   "source": []
  },
  {
   "cell_type": "markdown",
   "id": "89a64036",
   "metadata": {},
   "source": [
    "2. Split a list into k sublists such that: \n",
    "No sublist is empty. The difference between the maximum sum and minimum sum of sublists is minimized."
   ]
  },
  {
   "cell_type": "code",
   "execution_count": null,
   "id": "b27a2568",
   "metadata": {},
   "outputs": [
    {
     "name": "stdout",
     "output_type": "stream",
     "text": [
      "Sublists: [[8, 3, 2], [7, 4, 1], [6, 5]]\n"
     ]
    }
   ],
   "source": [
    "# 2. Split a list into k sublists such that: No sublist is empty. The difference between the maximum sum and minimum sum of sublists is minimized.\n",
    "list1 = [1, 2, 3, 4, 5, 6, 7, 8]\n",
    "k = 3\n",
    "\n",
    "def split_list(lst, k):\n",
    "    n = len(lst)\n",
    "    if k > n:\n",
    "        return -1\n",
    "    \n",
    "    lst.sort(reverse=True)\n",
    "    sublists = [[] for _ in range(k)]\n",
    "    sums = [0] * k\n",
    "\n",
    "    for num in lst:\n",
    "        min_index = sums.index(min(sums))\n",
    "        sublists[min_index].append(num)\n",
    "        sums[min_index] += num\n",
    "\n",
    "    return sublists, max(sums) - min(sums)\n",
    "\n",
    "result = split_list(list1, k)\n",
    "print(\"Sublists:\", result[0])"
   ]
  },
  {
   "cell_type": "markdown",
   "id": "a734aae2",
   "metadata": {},
   "source": [
    "3. Given lst = [('a', 1), ('b', 2), ('a', 3)], convert it into {'a': [1, 3], 'b': [2]} without \n",
    "using defaultdict or setdefault."
   ]
  },
  {
   "cell_type": "code",
   "execution_count": null,
   "id": "4eb72bc7",
   "metadata": {},
   "outputs": [],
   "source": []
  },
  {
   "cell_type": "markdown",
   "id": "54e4ae0e",
   "metadata": {},
   "source": [
    "4. Write a function shuffle_restricted(lst) that shuffles a list without \n",
    "using random.shuffle and ensuring no element appears in its original \n",
    "position."
   ]
  },
  {
   "cell_type": "code",
   "execution_count": null,
   "id": "b10726e1",
   "metadata": {},
   "outputs": [],
   "source": []
  },
  {
   "cell_type": "markdown",
   "id": "75f0c385",
   "metadata": {},
   "source": [
    "5. Encode a string such that consecutive runs of 3+ characters are \n",
    "compressed (e.g., \"aaabbcccc\" → \"a3bbc4\")."
   ]
  },
  {
   "cell_type": "code",
   "execution_count": null,
   "id": "2c79bc3d",
   "metadata": {},
   "outputs": [],
   "source": []
  },
  {
   "cell_type": "markdown",
   "id": "e5382ca3",
   "metadata": {},
   "source": [
    "6. Return the intersection of two lists without duplicates. \n",
    "(Take any two list of your choice)."
   ]
  },
  {
   "cell_type": "code",
   "execution_count": 10,
   "id": "ea7ebc6e",
   "metadata": {},
   "outputs": [
    {
     "name": "stdout",
     "output_type": "stream",
     "text": [
      "{2, 3}\n"
     ]
    }
   ],
   "source": [
    "list1 = [1, 2, 3]\n",
    "list2 = [2, 5, 3]\n",
    "\n",
    "list1 = set(list1)\n",
    "list2 = set(list2)\n",
    "\n",
    "list3 = list1.intersection(list2)\n",
    "print(list3)"
   ]
  },
  {
   "cell_type": "markdown",
   "id": "0e90718c",
   "metadata": {},
   "source": [
    "7. Given a list like [\"abc\", \"def\", [\"ghi\", \"jkl\"]], flatten it into a single list of \n",
    "characters."
   ]
  },
  {
   "cell_type": "code",
   "execution_count": null,
   "id": "6811bf27",
   "metadata": {},
   "outputs": [],
   "source": []
  },
  {
   "cell_type": "markdown",
   "id": "daa892c3",
   "metadata": {},
   "source": [
    "8. Convert a list of words into an acronym (first letters capitalized). \n",
    "Example: [\"Federal\", \"Bureau\", \"Investigation\"] → \"FBI\""
   ]
  },
  {
   "cell_type": "code",
   "execution_count": 1,
   "id": "b743ff22",
   "metadata": {},
   "outputs": [
    {
     "name": "stdout",
     "output_type": "stream",
     "text": [
      "FBI"
     ]
    }
   ],
   "source": [
    "list = [\"Federal\", \"Bureau\", \"Investigation\"]\n",
    "for i in list:\n",
    "    print(i[0].upper(), end=\"\")"
   ]
  },
  {
   "cell_type": "markdown",
   "id": "085d2881",
   "metadata": {},
   "source": [
    "9. Determine if two strings are anagrams without sorting.(Take two strings \n",
    "of your choice)"
   ]
  },
  {
   "cell_type": "code",
   "execution_count": null,
   "id": "e584aa7c",
   "metadata": {},
   "outputs": [
    {
     "name": "stdout",
     "output_type": "stream",
     "text": [
      "The strings are anagrams\n"
     ]
    }
   ],
   "source": [
    "str1 = \"Remit\"\n",
    "str2 = \"Timer\"\n",
    "str1 = str1.lower()\n",
    "str2 = str2.lower()\n",
    "if str1[::-1] == str2:\n",
    "    print(\"The strings are anagrams\")\n",
    "else:\n",
    "    print(\"The strings are not anagrams\")"
   ]
  },
  {
   "cell_type": "markdown",
   "id": "fe7de466",
   "metadata": {},
   "source": [
    "10.  Given a list of n-1 integers from 1 to n, write the code to find the missing \n",
    "number. \n",
    "Example: [1, 2, 4, 5] → 3"
   ]
  },
  {
   "cell_type": "code",
   "execution_count": 8,
   "id": "4f135e40",
   "metadata": {},
   "outputs": [
    {
     "name": "stdout",
     "output_type": "stream",
     "text": [
      "The first missing number is 6\n"
     ]
    }
   ],
   "source": [
    "list = [1,2, 3, 4, 5, 7]\n",
    "list.sort()\n",
    "for i in range(len(list)):\n",
    "    if list[i] != i + 1:\n",
    "        print(\"The first missing number is\", i + 1)\n",
    "        break"
   ]
  }
 ],
 "metadata": {
  "kernelspec": {
   "display_name": ".venv",
   "language": "python",
   "name": "python3"
  },
  "language_info": {
   "codemirror_mode": {
    "name": "ipython",
    "version": 3
   },
   "file_extension": ".py",
   "mimetype": "text/x-python",
   "name": "python",
   "nbconvert_exporter": "python",
   "pygments_lexer": "ipython3",
   "version": "3.13.2"
  }
 },
 "nbformat": 4,
 "nbformat_minor": 5
}
