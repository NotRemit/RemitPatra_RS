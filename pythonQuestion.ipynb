{
 "cells": [
  {
   "cell_type": "markdown",
   "id": "727532a3",
   "metadata": {},
   "source": [
    "# Python Questions"
   ]
  },
  {
   "cell_type": "markdown",
   "id": "9c34c93b",
   "metadata": {},
   "source": [
    "1. You are given a string str, you need to return True if  the words \"cat\" and \"hat\" appear same number of times in str, otherwise return False."
   ]
  },
  {
   "cell_type": "code",
   "execution_count": 2,
   "id": "bb31c19a",
   "metadata": {},
   "outputs": [
    {
     "name": "stdout",
     "output_type": "stream",
     "text": [
      "False\n"
     ]
    }
   ],
   "source": [
    "str = \"remithatcatcat\"\n",
    "print(str.count(\"cat\") == str.count(\"hat\"))"
   ]
  },
  {
   "cell_type": "markdown",
   "id": "a1b685b5",
   "metadata": {},
   "source": [
    "2. Write a Python program that takes a natural number n as input and prints a pattern where each line shows the sum of squares of the first i natural numbers, from 1 to n. (where n ≥ 1)."
   ]
  },
  {
   "cell_type": "code",
   "execution_count": null,
   "id": "9c83b4fd",
   "metadata": {},
   "outputs": [],
   "source": [
    "n = int(input())\n",
    "\n",
    "for i in range(1, n + 1):\n",
    "    total = 0\n",
    "    for j in range(1, i + 1):\n",
    "        total += j**2\n",
    "    print(total)\n"
   ]
  },
  {
   "cell_type": "markdown",
   "id": "3ba18a16",
   "metadata": {},
   "source": [
    "3. Calculate the sum of N numbers using while loop and user input."
   ]
  },
  {
   "cell_type": "code",
   "execution_count": null,
   "id": "ee02dc40",
   "metadata": {},
   "outputs": [
    {
     "name": "stdout",
     "output_type": "stream",
     "text": [
      "6\n"
     ]
    }
   ],
   "source": [
    "n = int(input(\"Enter the number of elements: \"))\n",
    "lst = []\n",
    "for i in range(n):\n",
    "    lst.append(int(input(\"Enter element: \")))\n",
    "\n",
    "total = 0\n",
    "for i in range(1, n + 1):\n",
    "    total += lst[i-1]\n",
    "print(total)"
   ]
  },
  {
   "cell_type": "markdown",
   "id": "a9a0ba04",
   "metadata": {},
   "source": [
    "4. Remove duplicate values across Dictionary Values using nested loops."
   ]
  },
  {
   "cell_type": "code",
   "execution_count": null,
   "id": "9bb44852",
   "metadata": {},
   "outputs": [
    {
     "name": "stdout",
     "output_type": "stream",
     "text": [
      "{'a': [1, 2], 'b': [3, 4], 'c': [5]}\n"
     ]
    }
   ],
   "source": [
    "dict1 = {'a': [1, 2, 3], 'b': [2, 3, 4], 'c': [3, 4, 5]}\n",
    "for key1 in dict1:\n",
    "    for key2 in dict1:\n",
    "        if key1 != key2:\n",
    "            for value in dict1[key2]:\n",
    "                if value in dict1[key1]:\n",
    "                    dict1[key2].remove(value)\n",
    "print(dict1)"
   ]
  },
  {
   "cell_type": "markdown",
   "id": "17ef48d9",
   "metadata": {},
   "source": [
    "5. Write a Python program to count the frequency of each character in a string using a dictionary."
   ]
  },
  {
   "cell_type": "code",
   "execution_count": null,
   "id": "99134cb4",
   "metadata": {},
   "outputs": [
    {
     "name": "stdout",
     "output_type": "stream",
     "text": [
      "Character frequency: {'R': 1, 'e': 1, 'm': 1, 'i': 1, 't': 3}\n"
     ]
    }
   ],
   "source": [
    "string = \"Remittt\"\n",
    "countC = {}\n",
    "for char in string:\n",
    "    if char in countC:\n",
    "        countC[char] += 1\n",
    "    else:\n",
    "        countC[char] = 1\n",
    "\n",
    "print(\"Character frequency:\", countC)"
   ]
  },
  {
   "cell_type": "markdown",
   "id": "0e946ec2",
   "metadata": {},
   "source": [
    "6. Given a list, and dictionary and a Key K, print the value of K from the dictionary if the key is present in both, the list and the dictionary."
   ]
  },
  {
   "cell_type": "code",
   "execution_count": null,
   "id": "24887637",
   "metadata": {},
   "outputs": [
    {
     "name": "stdout",
     "output_type": "stream",
     "text": [
      "c\n"
     ]
    }
   ],
   "source": [
    "list1 = [1, 2, 3, 4, 5]\n",
    "dict1 = {1: \"a\", 2: \"b\", 3: \"c\", 4: \"d\", 5: \"e\"}\n",
    "key = 3\n",
    "if key in list1 and key in dict1:\n",
    "    print(dict1[key])"
   ]
  },
  {
   "cell_type": "markdown",
   "id": "980ecc67",
   "metadata": {},
   "source": [
    "7.  Write a program to check if a number is power of 2."
   ]
  },
  {
   "cell_type": "code",
   "execution_count": null,
   "id": "4712a412",
   "metadata": {},
   "outputs": [
    {
     "name": "stdout",
     "output_type": "stream",
     "text": [
      "Power of 2\n"
     ]
    }
   ],
   "source": [
    "n = 32\n",
    "if n & (n - 1) == 0:\n",
    "    print(\"Power of 2\")\n",
    "else:\n",
    "    print(\"Not a power of 2\")"
   ]
  },
  {
   "cell_type": "markdown",
   "id": "9602a2bd",
   "metadata": {},
   "source": [
    "8. You’re given a list of tuples, where each tuple contains coordinates (x, y). Write a program to print all coordinates where both x and y are even numbers."
   ]
  },
  {
   "cell_type": "code",
   "execution_count": null,
   "id": "ca8b9f09",
   "metadata": {},
   "outputs": [
    {
     "name": "stdout",
     "output_type": "stream",
     "text": [
      "(4, 4)\n",
      "(2, 2)\n"
     ]
    }
   ],
   "source": [
    "coordiaates = [(1, 2), (4, 4), (2, 2), (5, 6)]\n",
    "for i in coordiaates:\n",
    "    if i[0] == i[1]:\n",
    "        print(i)"
   ]
  },
  {
   "cell_type": "markdown",
   "id": "74e24306",
   "metadata": {},
   "source": [
    "9. Write a Python function that checks whether all elements in a given list are unique using a set."
   ]
  },
  {
   "cell_type": "code",
   "execution_count": null,
   "id": "ceb98e2f",
   "metadata": {},
   "outputs": [
    {
     "name": "stdout",
     "output_type": "stream",
     "text": [
      "All elements are unique\n"
     ]
    }
   ],
   "source": [
    "list1 = [1, 2, 3, 4, 5]\n",
    "set1 = set(list1)\n",
    "\n",
    "if len(set1) == len(list1):\n",
    "    print(\"All elements are unique\")\n",
    "else:\n",
    "    print(\"ALl elements are not unique\")"
   ]
  },
  {
   "cell_type": "markdown",
   "id": "3b645e97",
   "metadata": {},
   "source": [
    "10. Given two arrays which are duplicates of each other except one element, that is, one element from one of the array is missing, we need to find that missing element using set."
   ]
  },
  {
   "cell_type": "code",
   "execution_count": 12,
   "id": "da6f8331",
   "metadata": {},
   "outputs": [
    {
     "name": "stdout",
     "output_type": "stream",
     "text": [
      "{4}\n"
     ]
    }
   ],
   "source": [
    "list1 = [1, 2, 3, 4, 5]\n",
    "list2 = [1, 2, 3, 5]\n",
    "set1 = set(list1)\n",
    "set2 = set(list2)\n",
    "set3 = set1.union(set2)\n",
    "set4 = set1.intersection(set2)\n",
    "print(set3.difference(set4))"
   ]
  },
  {
   "cell_type": "markdown",
   "id": "2d7eba09",
   "metadata": {},
   "source": [
    "11. write a program to swap elements inside each tuple."
   ]
  },
  {
   "cell_type": "code",
   "execution_count": null,
   "id": "788a5eaf",
   "metadata": {},
   "outputs": [
    {
     "name": "stdout",
     "output_type": "stream",
     "text": [
      "[(2, 1), (4, 3), (6, 5)]\n"
     ]
    }
   ],
   "source": [
    "list1 = [(1, 2), (3, 4), (5, 6)]\n",
    "\n",
    "for i in range(len(list1)):\n",
    "    i_new = list(list1[i])\n",
    "    i_new[0], i_new[1] = i_new[1], i_new[0]\n",
    "    i_new = tuple(i_new)\n",
    "    list1[i] = i_new\n",
    "\n",
    "print(list1)"
   ]
  },
  {
   "cell_type": "markdown",
   "id": "cd640321",
   "metadata": {},
   "source": [
    "12.  Write a Python program to calculate the average value of the numbers in a given tuple of tuples."
   ]
  },
  {
   "cell_type": "code",
   "execution_count": null,
   "id": "373af681",
   "metadata": {},
   "outputs": [
    {
     "name": "stdout",
     "output_type": "stream",
     "text": [
      "[2.0, 5.0, 8.0]\n"
     ]
    }
   ],
   "source": [
    "list1 = [(1,2,3), (4,5,6), (7,8,9)]\n",
    "list2 = []\n",
    "for i in list1:\n",
    "    total = 0\n",
    "    \n",
    "    total = total / len(i)\n",
    "    list2.append(total)\n",
    "print(list2)"
   ]
  }
 ],
 "metadata": {
  "kernelspec": {
   "display_name": ".venv",
   "language": "python",
   "name": "python3"
  },
  "language_info": {
   "codemirror_mode": {
    "name": "ipython",
    "version": 3
   },
   "file_extension": ".py",
   "mimetype": "text/x-python",
   "name": "python",
   "nbconvert_exporter": "python",
   "pygments_lexer": "ipython3",
   "version": "3.13.2"
  }
 },
 "nbformat": 4,
 "nbformat_minor": 5
}
